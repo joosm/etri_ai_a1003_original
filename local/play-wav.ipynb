{
 "cells": [
  {
   "cell_type": "code",
   "execution_count": null,
   "id": "regional-excitement",
   "metadata": {},
   "outputs": [],
   "source": [
    "from IPython.display import Audio\n",
    "filename = \"data/KsponSpeech_E00001.wav\"\n",
    "Audio(filename, autoplay=False)"
   ]
  },
  {
   "cell_type": "code",
   "execution_count": null,
   "id": "direct-collapse",
   "metadata": {},
   "outputs": [],
   "source": [
    "import librosa\n",
    "samples, sampling_rate = librosa.load(filename, sr=None)\n",
    "len(samples), sampling_rate"
   ]
  },
  {
   "cell_type": "code",
   "execution_count": null,
   "id": "departmental-resident",
   "metadata": {},
   "outputs": [],
   "source": [
    "import matplotlib.pyplot as plt\n",
    "%matplotlib notebook\n",
    "%matplotlib inline\n",
    "plt.rcParams[\"figure.figsize\"]=12,5\n",
    "from librosa import display\n",
    "import numpy as np\n",
    "plt.figure()\n",
    "librosa.display.waveshow(y = samples, sr = sampling_rate)\n",
    "plt.show()"
   ]
  },
  {
   "cell_type": "code",
   "execution_count": null,
   "id": "thorough-portuguese",
   "metadata": {},
   "outputs": [],
   "source": [
    "hop_length = 160 \n",
    "n_fft = 320\n",
    "\n",
    "stft = librosa.stft(samples, n_fft=n_fft, hop_length=hop_length)\n",
    "spectrogram = np.abs(stft)**2\n",
    "log_spectrogram = librosa.power_to_db(spectrogram, ref=np.max)\n",
    "\n",
    "plt.figure()\n",
    "librosa.display.specshow(log_spectrogram, sr=sampling_rate, hop_length=hop_length, y_axis=\"hz\", x_axis=\"time\")\n"
   ]
  },
  {
   "cell_type": "code",
   "execution_count": null,
   "id": "loaded-grill",
   "metadata": {},
   "outputs": [],
   "source": [
    "hop_length = 160 \n",
    "n_fft = 320\n",
    "n_mels = 40\n",
    "\n",
    "S = librosa.feature.melspectrogram(y=samples, sr=sampling_rate, hop_length=hop_length, n_fft=n_fft, n_mels = n_mels, fmin=0.0, fmax=None)\n",
    "S_dB = librosa.power_to_db(S, ref=np.max)\n",
    "dim_feature, len_feature = S_dB.shape\n",
    "fig = plt.figure()\n",
    "librosa.display.specshow(S_dB, y_axis=None, x_axis=None)\n",
    "fig.gca().set_yticks(range(0, dim_feature+1, 10))\n",
    "fig.gca().set_xticks(range(0, len_feature, 100))\n",
    "fig.gca().set_ylabel(\"Mel-freq. Index\")\n",
    "fig.gca().set_xlabel(\"Frame Index\")\n"
   ]
  },
  {
   "cell_type": "code",
   "execution_count": null,
   "id": "modern-sport",
   "metadata": {},
   "outputs": [],
   "source": [
    "from espnet2.asr.specaug.specaug import SpecAug\n",
    "import torch\n",
    "\n",
    "specaug = SpecAug(apply_time_warp=True,\n",
    "                  time_warp_window=100,\n",
    "                  time_mask_width_range=(0,40),\n",
    "                  freq_mask_width_range=(0,3),\n",
    "                  apply_freq_mask=True,\n",
    "                  apply_time_mask=True)\n",
    "print(specaug)\n",
    "\n",
    "S_dB_in = torch.unsqueeze(torch.from_numpy(S_dB.copy().T), 0)\n",
    "specaug(S_dB_in)\n",
    "S_dB_out = torch.squeeze(S_dB_in, 0).numpy().T\n",
    "\n",
    "plt.figure()\n",
    "librosa.display.specshow(S_dB_out, sr=sampling_rate, hop_length=hop_length, y_axis=\"mel\", x_axis=\"time\")\n",
    "\n"
   ]
  },
  {
   "cell_type": "code",
   "execution_count": null,
   "id": "settled-lottery",
   "metadata": {},
   "outputs": [],
   "source": []
  },
  {
   "cell_type": "code",
   "execution_count": null,
   "id": "0c6713e2-a494-4122-bcef-4c4cb4936247",
   "metadata": {},
   "outputs": [],
   "source": []
  }
 ],
 "metadata": {
  "kernelspec": {
   "display_name": "Python 3 (ipykernel)",
   "language": "python",
   "name": "python3"
  },
  "language_info": {
   "codemirror_mode": {
    "name": "ipython",
    "version": 3
   },
   "file_extension": ".py",
   "mimetype": "text/x-python",
   "name": "python",
   "nbconvert_exporter": "python",
   "pygments_lexer": "ipython3",
   "version": "3.10.14"
  }
 },
 "nbformat": 4,
 "nbformat_minor": 5
}
